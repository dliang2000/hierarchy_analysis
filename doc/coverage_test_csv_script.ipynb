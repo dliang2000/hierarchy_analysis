{
 "cells": [
  {
   "cell_type": "code",
   "execution_count": 1,
   "metadata": {},
   "outputs": [],
   "source": [
    "import requests\n",
    "import pandas as pd\n",
    "import csv\n",
    "from zipfile import ZipFile\n",
    "from lxml import html\n",
    "from bs4 import BeautifulSoup"
   ]
  },
  {
   "cell_type": "code",
   "execution_count": 2,
   "metadata": {},
   "outputs": [],
   "source": [
    "# Specify the file location\n",
    "\n",
    "path = 'file:///home/daveroar/Graduation_Studies/ThesisWork/Analysis_Documentation/Hierarchy_Analysis_Data_Storage/commons_math_MATH_3_6_1_csv/'\n",
    "csv_file = path + 'commons_math_3_6_1_coverage.csv'\n",
    "\n",
    "coverage_test_df = pd.read_csv(csv_file)\n",
    "\n",
    "# print(coverage_test_df.head(5))"
   ]
  },
  {
   "cell_type": "code",
   "execution_count": 3,
   "metadata": {},
   "outputs": [],
   "source": [
    "df_missed_methods = coverage_test_df[coverage_test_df['METHOD_MISSED'] > 0]\n",
    "\n",
    "df_missed_methods = df_missed_methods[df_missed_methods['GROUP'].str.endswith('src/main/java')]\n",
    "\n",
    "to_store = []\n",
    "\n",
    "for index, row in df_missed_methods.iterrows():\n",
    "    if \".\" in row['CLASS']:\n",
    "        continue\n",
    "    else:\n",
    "        to_store.append(row['PACKAGE'] + \".\" + row['CLASS'])"
   ]
  },
  {
   "cell_type": "code",
   "execution_count": 6,
   "metadata": {},
   "outputs": [],
   "source": [
    "with open('commons_MATH_3_6_1_missing_methods.csv','w') as result_file:\n",
    "    wr = csv.writer(result_file, dialect='excel')\n",
    "    for item in to_store:\n",
    "        wr.writerow([item,])"
   ]
  },
  {
   "cell_type": "code",
   "execution_count": null,
   "metadata": {},
   "outputs": [],
   "source": []
  }
 ],
 "metadata": {
  "kernelspec": {
   "display_name": "Python 3",
   "language": "python",
   "name": "python3"
  },
  "language_info": {
   "codemirror_mode": {
    "name": "ipython",
    "version": 3
   },
   "file_extension": ".py",
   "mimetype": "text/x-python",
   "name": "python",
   "nbconvert_exporter": "python",
   "pygments_lexer": "ipython3",
   "version": "3.7.1"
  }
 },
 "nbformat": 4,
 "nbformat_minor": 2
}
